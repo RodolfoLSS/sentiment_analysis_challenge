{
 "cells": [
  {
   "cell_type": "markdown",
   "id": "041dad03",
   "metadata": {},
   "source": [
    "# Exploratory data analysis"
   ]
  },
  {
   "cell_type": "code",
   "execution_count": 1,
   "id": "3a5e86ee",
   "metadata": {},
   "outputs": [],
   "source": [
    "import pandas as pd\n",
    "import seaborn as sns\n",
    "import matplotlib.pyplot as plt\n",
    "from nltk.stem.snowball import SnowballStemmer\n",
    "from sklearn.model_selection import train_test_split\n",
    "from sklearn.feature_extraction.text import TfidfVectorizer\n",
    "import re"
   ]
  },
  {
   "cell_type": "code",
   "execution_count": 2,
   "id": "5fd2ee7e",
   "metadata": {},
   "outputs": [
    {
     "data": {
      "text/html": [
       "<div>\n",
       "<style scoped>\n",
       "    .dataframe tbody tr th:only-of-type {\n",
       "        vertical-align: middle;\n",
       "    }\n",
       "\n",
       "    .dataframe tbody tr th {\n",
       "        vertical-align: top;\n",
       "    }\n",
       "\n",
       "    .dataframe thead th {\n",
       "        text-align: right;\n",
       "    }\n",
       "</style>\n",
       "<table border=\"1\" class=\"dataframe\">\n",
       "  <thead>\n",
       "    <tr style=\"text-align: right;\">\n",
       "      <th></th>\n",
       "      <th>0</th>\n",
       "      <th>1</th>\n",
       "      <th>2</th>\n",
       "      <th>3</th>\n",
       "    </tr>\n",
       "  </thead>\n",
       "  <tbody>\n",
       "    <tr>\n",
       "      <th>0</th>\n",
       "      <td>2401</td>\n",
       "      <td>Borderlands</td>\n",
       "      <td>Positive</td>\n",
       "      <td>im getting on borderlands and i will murder yo...</td>\n",
       "    </tr>\n",
       "    <tr>\n",
       "      <th>1</th>\n",
       "      <td>2401</td>\n",
       "      <td>Borderlands</td>\n",
       "      <td>Positive</td>\n",
       "      <td>I am coming to the borders and I will kill you...</td>\n",
       "    </tr>\n",
       "    <tr>\n",
       "      <th>2</th>\n",
       "      <td>2401</td>\n",
       "      <td>Borderlands</td>\n",
       "      <td>Positive</td>\n",
       "      <td>im getting on borderlands and i will kill you ...</td>\n",
       "    </tr>\n",
       "    <tr>\n",
       "      <th>3</th>\n",
       "      <td>2401</td>\n",
       "      <td>Borderlands</td>\n",
       "      <td>Positive</td>\n",
       "      <td>im coming on borderlands and i will murder you...</td>\n",
       "    </tr>\n",
       "    <tr>\n",
       "      <th>4</th>\n",
       "      <td>2401</td>\n",
       "      <td>Borderlands</td>\n",
       "      <td>Positive</td>\n",
       "      <td>im getting on borderlands 2 and i will murder ...</td>\n",
       "    </tr>\n",
       "  </tbody>\n",
       "</table>\n",
       "</div>"
      ],
      "text/plain": [
       "      0            1         2  \\\n",
       "0  2401  Borderlands  Positive   \n",
       "1  2401  Borderlands  Positive   \n",
       "2  2401  Borderlands  Positive   \n",
       "3  2401  Borderlands  Positive   \n",
       "4  2401  Borderlands  Positive   \n",
       "\n",
       "                                                   3  \n",
       "0  im getting on borderlands and i will murder yo...  \n",
       "1  I am coming to the borders and I will kill you...  \n",
       "2  im getting on borderlands and i will kill you ...  \n",
       "3  im coming on borderlands and i will murder you...  \n",
       "4  im getting on borderlands 2 and i will murder ...  "
      ]
     },
     "execution_count": 2,
     "metadata": {},
     "output_type": "execute_result"
    }
   ],
   "source": [
    "filepath = \"/Users/rodolfo.saldanha/Desktop/labelled_text.csv\"\n",
    "data = pd.read_csv(filepath, header=None)\n",
    "data.head()"
   ]
  },
  {
   "cell_type": "code",
   "execution_count": 3,
   "id": "8a52e833",
   "metadata": {},
   "outputs": [
    {
     "data": {
      "text/html": [
       "<div>\n",
       "<style scoped>\n",
       "    .dataframe tbody tr th:only-of-type {\n",
       "        vertical-align: middle;\n",
       "    }\n",
       "\n",
       "    .dataframe tbody tr th {\n",
       "        vertical-align: top;\n",
       "    }\n",
       "\n",
       "    .dataframe thead th {\n",
       "        text-align: right;\n",
       "    }\n",
       "</style>\n",
       "<table border=\"1\" class=\"dataframe\">\n",
       "  <thead>\n",
       "    <tr style=\"text-align: right;\">\n",
       "      <th></th>\n",
       "      <th>user_id</th>\n",
       "      <th>game</th>\n",
       "      <th>sentiment</th>\n",
       "      <th>comment</th>\n",
       "    </tr>\n",
       "  </thead>\n",
       "  <tbody>\n",
       "    <tr>\n",
       "      <th>0</th>\n",
       "      <td>2401</td>\n",
       "      <td>Borderlands</td>\n",
       "      <td>Positive</td>\n",
       "      <td>im getting on borderlands and i will murder yo...</td>\n",
       "    </tr>\n",
       "    <tr>\n",
       "      <th>1</th>\n",
       "      <td>2401</td>\n",
       "      <td>Borderlands</td>\n",
       "      <td>Positive</td>\n",
       "      <td>I am coming to the borders and I will kill you...</td>\n",
       "    </tr>\n",
       "    <tr>\n",
       "      <th>2</th>\n",
       "      <td>2401</td>\n",
       "      <td>Borderlands</td>\n",
       "      <td>Positive</td>\n",
       "      <td>im getting on borderlands and i will kill you ...</td>\n",
       "    </tr>\n",
       "    <tr>\n",
       "      <th>3</th>\n",
       "      <td>2401</td>\n",
       "      <td>Borderlands</td>\n",
       "      <td>Positive</td>\n",
       "      <td>im coming on borderlands and i will murder you...</td>\n",
       "    </tr>\n",
       "    <tr>\n",
       "      <th>4</th>\n",
       "      <td>2401</td>\n",
       "      <td>Borderlands</td>\n",
       "      <td>Positive</td>\n",
       "      <td>im getting on borderlands 2 and i will murder ...</td>\n",
       "    </tr>\n",
       "    <tr>\n",
       "      <th>...</th>\n",
       "      <td>...</td>\n",
       "      <td>...</td>\n",
       "      <td>...</td>\n",
       "      <td>...</td>\n",
       "    </tr>\n",
       "    <tr>\n",
       "      <th>74677</th>\n",
       "      <td>9200</td>\n",
       "      <td>Nvidia</td>\n",
       "      <td>Positive</td>\n",
       "      <td>Just realized that the Windows partition of my...</td>\n",
       "    </tr>\n",
       "    <tr>\n",
       "      <th>74678</th>\n",
       "      <td>9200</td>\n",
       "      <td>Nvidia</td>\n",
       "      <td>Positive</td>\n",
       "      <td>Just realized that my Mac window partition is ...</td>\n",
       "    </tr>\n",
       "    <tr>\n",
       "      <th>74679</th>\n",
       "      <td>9200</td>\n",
       "      <td>Nvidia</td>\n",
       "      <td>Positive</td>\n",
       "      <td>Just realized the windows partition of my Mac ...</td>\n",
       "    </tr>\n",
       "    <tr>\n",
       "      <th>74680</th>\n",
       "      <td>9200</td>\n",
       "      <td>Nvidia</td>\n",
       "      <td>Positive</td>\n",
       "      <td>Just realized between the windows partition of...</td>\n",
       "    </tr>\n",
       "    <tr>\n",
       "      <th>74681</th>\n",
       "      <td>9200</td>\n",
       "      <td>Nvidia</td>\n",
       "      <td>Positive</td>\n",
       "      <td>Just like the windows partition of my Mac is l...</td>\n",
       "    </tr>\n",
       "  </tbody>\n",
       "</table>\n",
       "<p>74682 rows × 4 columns</p>\n",
       "</div>"
      ],
      "text/plain": [
       "       user_id         game sentiment  \\\n",
       "0         2401  Borderlands  Positive   \n",
       "1         2401  Borderlands  Positive   \n",
       "2         2401  Borderlands  Positive   \n",
       "3         2401  Borderlands  Positive   \n",
       "4         2401  Borderlands  Positive   \n",
       "...        ...          ...       ...   \n",
       "74677     9200       Nvidia  Positive   \n",
       "74678     9200       Nvidia  Positive   \n",
       "74679     9200       Nvidia  Positive   \n",
       "74680     9200       Nvidia  Positive   \n",
       "74681     9200       Nvidia  Positive   \n",
       "\n",
       "                                                 comment  \n",
       "0      im getting on borderlands and i will murder yo...  \n",
       "1      I am coming to the borders and I will kill you...  \n",
       "2      im getting on borderlands and i will kill you ...  \n",
       "3      im coming on borderlands and i will murder you...  \n",
       "4      im getting on borderlands 2 and i will murder ...  \n",
       "...                                                  ...  \n",
       "74677  Just realized that the Windows partition of my...  \n",
       "74678  Just realized that my Mac window partition is ...  \n",
       "74679  Just realized the windows partition of my Mac ...  \n",
       "74680  Just realized between the windows partition of...  \n",
       "74681  Just like the windows partition of my Mac is l...  \n",
       "\n",
       "[74682 rows x 4 columns]"
      ]
     },
     "execution_count": 3,
     "metadata": {},
     "output_type": "execute_result"
    }
   ],
   "source": [
    "data.columns = [\"user_id\", \"game\", \"sentiment\", \"comment\"]\n",
    "data"
   ]
  },
  {
   "cell_type": "code",
   "execution_count": 4,
   "id": "cbf754db",
   "metadata": {},
   "outputs": [],
   "source": [
    "data.comment = data.comment.str.lower()\n",
    "data.drop_duplicates([\"user_id\", \"game\", \"sentiment\", \"comment\"], inplace=True)"
   ]
  },
  {
   "cell_type": "code",
   "execution_count": 5,
   "id": "c05c1bea",
   "metadata": {},
   "outputs": [
    {
     "data": {
      "text/plain": [
       "(71739, 4)"
      ]
     },
     "execution_count": 5,
     "metadata": {},
     "output_type": "execute_result"
    }
   ],
   "source": [
    "data.shape"
   ]
  },
  {
   "cell_type": "code",
   "execution_count": 6,
   "id": "6365e7b7",
   "metadata": {},
   "outputs": [
    {
     "data": {
      "text/plain": [
       "Negative      21718\n",
       "Positive      19717\n",
       "Neutral       17758\n",
       "Irrelevant    12546\n",
       "Name: sentiment, dtype: int64"
      ]
     },
     "execution_count": 6,
     "metadata": {},
     "output_type": "execute_result"
    }
   ],
   "source": [
    "sentiment_distribution = data[\"sentiment\"].value_counts()\n",
    "sentiment_distribution"
   ]
  },
  {
   "cell_type": "code",
   "execution_count": 7,
   "id": "142fdf70",
   "metadata": {},
   "outputs": [
    {
     "data": {
      "image/png": "[encoded data removed]",
      "text/plain": [
       "<Figure size 720x432 with 1 Axes>"
      ]
     },
     "metadata": {},
     "output_type": "display_data"
    }
   ],
   "source": [
    "sns.set(font_scale = 1.5)\n",
    "sns.set_style(\"whitegrid\") \n",
    "plt.figure(figsize=(10,6))\n",
    "\n",
    "sns.barplot(x=sentiment_distribution.index, y=sentiment_distribution.values)\n",
    "plt.title(\"Distribution of comment sentiments\", fontsize=24)\n",
    "plt.ylabel(\"Number of comments\", fontsize=14)\n",
    "plt.xlabel(\"Sentiment\", fontsize=14)\n",
    "\n",
    "plt.show()"
   ]
  },
  {
   "cell_type": "code",
   "execution_count": 8,
   "id": "2341df6d",
   "metadata": {},
   "outputs": [],
   "source": [
    "data[\"positive\"] = 0\n",
    "data[\"negative\"] = 0\n",
    "data[\"neutral\"] = 0\n",
    "data[\"irrelevant\"] = 0\n",
    "data.loc[data[\"sentiment\"].str.lower() == \"positive\", [\"positive\"]] = 1\n",
    "data.loc[data[\"sentiment\"].str.lower() == \"negative\", [\"negative\"]] = 1\n",
    "data.loc[data[\"sentiment\"].str.lower() == \"neutral\", [\"neutral\"]] = 1\n",
    "data.loc[data[\"sentiment\"].str.lower() == \"irrelevant\", [\"irrelevant\"]] = 1"
   ]
  },
  {
   "cell_type": "code",
   "execution_count": 9,
   "id": "c1f7c373",
   "metadata": {},
   "outputs": [
    {
     "data": {
      "text/html": [
       "<div>\n",
       "<style scoped>\n",
       "    .dataframe tbody tr th:only-of-type {\n",
       "        vertical-align: middle;\n",
       "    }\n",
       "\n",
       "    .dataframe tbody tr th {\n",
       "        vertical-align: top;\n",
       "    }\n",
       "\n",
       "    .dataframe thead th {\n",
       "        text-align: right;\n",
       "    }\n",
       "</style>\n",
       "<table border=\"1\" class=\"dataframe\">\n",
       "  <thead>\n",
       "    <tr style=\"text-align: right;\">\n",
       "      <th></th>\n",
       "      <th>user_id</th>\n",
       "      <th>game</th>\n",
       "      <th>sentiment</th>\n",
       "      <th>comment</th>\n",
       "      <th>positive</th>\n",
       "      <th>negative</th>\n",
       "      <th>neutral</th>\n",
       "      <th>irrelevant</th>\n",
       "    </tr>\n",
       "  </thead>\n",
       "  <tbody>\n",
       "    <tr>\n",
       "      <th>0</th>\n",
       "      <td>2401</td>\n",
       "      <td>Borderlands</td>\n",
       "      <td>Positive</td>\n",
       "      <td>im getting on borderlands and i will murder yo...</td>\n",
       "      <td>1</td>\n",
       "      <td>0</td>\n",
       "      <td>0</td>\n",
       "      <td>0</td>\n",
       "    </tr>\n",
       "    <tr>\n",
       "      <th>1</th>\n",
       "      <td>2401</td>\n",
       "      <td>Borderlands</td>\n",
       "      <td>Positive</td>\n",
       "      <td>i am coming to the borders and i will kill you...</td>\n",
       "      <td>1</td>\n",
       "      <td>0</td>\n",
       "      <td>0</td>\n",
       "      <td>0</td>\n",
       "    </tr>\n",
       "    <tr>\n",
       "      <th>2</th>\n",
       "      <td>2401</td>\n",
       "      <td>Borderlands</td>\n",
       "      <td>Positive</td>\n",
       "      <td>im getting on borderlands and i will kill you ...</td>\n",
       "      <td>1</td>\n",
       "      <td>0</td>\n",
       "      <td>0</td>\n",
       "      <td>0</td>\n",
       "    </tr>\n",
       "    <tr>\n",
       "      <th>3</th>\n",
       "      <td>2401</td>\n",
       "      <td>Borderlands</td>\n",
       "      <td>Positive</td>\n",
       "      <td>im coming on borderlands and i will murder you...</td>\n",
       "      <td>1</td>\n",
       "      <td>0</td>\n",
       "      <td>0</td>\n",
       "      <td>0</td>\n",
       "    </tr>\n",
       "    <tr>\n",
       "      <th>4</th>\n",
       "      <td>2401</td>\n",
       "      <td>Borderlands</td>\n",
       "      <td>Positive</td>\n",
       "      <td>im getting on borderlands 2 and i will murder ...</td>\n",
       "      <td>1</td>\n",
       "      <td>0</td>\n",
       "      <td>0</td>\n",
       "      <td>0</td>\n",
       "    </tr>\n",
       "  </tbody>\n",
       "</table>\n",
       "</div>"
      ],
      "text/plain": [
       "   user_id         game sentiment  \\\n",
       "0     2401  Borderlands  Positive   \n",
       "1     2401  Borderlands  Positive   \n",
       "2     2401  Borderlands  Positive   \n",
       "3     2401  Borderlands  Positive   \n",
       "4     2401  Borderlands  Positive   \n",
       "\n",
       "                                             comment  positive  negative  \\\n",
       "0  im getting on borderlands and i will murder yo...         1         0   \n",
       "1  i am coming to the borders and i will kill you...         1         0   \n",
       "2  im getting on borderlands and i will kill you ...         1         0   \n",
       "3  im coming on borderlands and i will murder you...         1         0   \n",
       "4  im getting on borderlands 2 and i will murder ...         1         0   \n",
       "\n",
       "   neutral  irrelevant  \n",
       "0        0           0  \n",
       "1        0           0  \n",
       "2        0           0  \n",
       "3        0           0  \n",
       "4        0           0  "
      ]
     },
     "execution_count": 9,
     "metadata": {},
     "output_type": "execute_result"
    }
   ],
   "source": [
    "data.head()"
   ]
  },
  {
   "cell_type": "code",
   "execution_count": 10,
   "id": "3f36769c",
   "metadata": {},
   "outputs": [],
   "source": [
    "boxplot = data.copy()\n",
    "boxplot[\"comment_length\"] = data.comment.apply(lambda x: len(str(x)))"
   ]
  },
  {
   "cell_type": "code",
   "execution_count": 11,
   "id": "56549a79",
   "metadata": {},
   "outputs": [
    {
     "data": {
      "image/png": "[encoded data removed]",
      "text/plain": [
       "<Figure size 648x288 with 1 Axes>"
      ]
     },
     "metadata": {},
     "output_type": "display_data"
    }
   ],
   "source": [
    "sns.set(style=\"whitegrid\",rc={\"font.size\":13,\"axes.labelsize\":13})\n",
    "\n",
    "plt.figure(figsize=(9, 4))\n",
    "\n",
    "ax = sns.boxplot(x=\"comment_length\", data=boxplot, orient=\"h\", palette=\"Set2\")\n",
    "plt.ylabel(\"\")\n",
    "plt.xlabel(\"Words\")\n",
    "plt.title(\"Distribution of the word frequency\", fontsize=16)\n",
    "plt.tight_layout(h_pad=3)"
   ]
  },
  {
   "cell_type": "markdown",
   "id": "586638a1",
   "metadata": {},
   "source": [
    "# Preprocessing"
   ]
  },
  {
   "cell_type": "code",
   "execution_count": 12,
   "id": "35f321c7",
   "metadata": {},
   "outputs": [],
   "source": [
    "def remove_stop_words(sentence):\n",
    "    global re_stop_words\n",
    "    return re_stop_words.sub(\"\", sentence)\n",
    "\n",
    "def decontract(token):\n",
    "    token = re.sub(r\"won't\", \"will not\", token)\n",
    "    token = re.sub(r\"can\\'t\", \"can not\", token)\n",
    "    token = re.sub(r\"n\\'t\", \" not\", token)\n",
    "    token = re.sub(r\"\\'re\", \" are\", token)\n",
    "    token = re.sub(r\"\\'s\", \" is\", token)\n",
    "    token = re.sub(r\"\\'d\", \" would\", token)\n",
    "    token = re.sub(r\"\\'ll\", \" will\", token)\n",
    "    token = re.sub(r\"\\'t\", \" not\", token)\n",
    "    token = re.sub(r\"\\'ve\", \" have\", token)\n",
    "    token = re.sub(r\"\\'m\", \" am\", token)\n",
    "    return token\n",
    "\n",
    "def remove_punctuation(token): \n",
    "    token = re.sub(r'[?|!|\\'|\"|#]',r'',token)\n",
    "    token = re.sub(r'[.|,|)|(|\\|/]',r' ',token)\n",
    "    token = token.strip()\n",
    "    token = token.replace(\"\\n\",\" \")\n",
    "    return token"
   ]
  },
  {
   "cell_type": "code",
   "execution_count": 13,
   "id": "b2352bd6",
   "metadata": {},
   "outputs": [],
   "source": [
    "stemmer = SnowballStemmer(\"english\")\n",
    "def stem(token):\n",
    "    stem_token = \"\"\n",
    "    for word in token.split():\n",
    "        stem = stemmer.stem(word)\n",
    "        stem_token += stem\n",
    "        stem_token += \" \"\n",
    "    stem_token = stem_token.strip()\n",
    "    return stem_token"
   ]
  },
  {
   "cell_type": "code",
   "execution_count": 14,
   "id": "42cc6a77",
   "metadata": {},
   "outputs": [],
   "source": [
    "stopwords= set(['br', 'the', 'i', 'im', 'me', 'my', 'myself', 'we', 'our', 'ours', 'ourselves', 'you', \"you're\", \"you've\",\\\n",
    "            \"you'll\", \"you'd\", 'your', 'yours', 'yourself', 'yourselves', 'he', 'him', 'his', 'himself', \\\n",
    "            'she', \"she's\", 'her', 'hers', 'herself', 'it', \"it's\", 'its', 'itself', 'they', 'them', 'their',\\\n",
    "            'theirs', 'themselves', 'what', 'which', 'who', 'whom', 'this', 'that', \"that'll\", 'these', 'those', \\\n",
    "            'am', 'is', 'are', 'was', 'were', 'be', 'been', 'being', 'have', 'has', 'had', 'having', 'do', 'does', \\\n",
    "            'did', 'doing', 'a', 'an', 'the', 'and', 'but', 'if', 'or', 'because', 'as', 'until', 'while', 'of', \\\n",
    "            'at', 'by', 'for', 'with', 'about', 'against', 'between', 'into', 'through', 'during', 'before', 'after',\\\n",
    "            'above', 'below', 'to', 'from', 'up', 'down', 'in', 'out', 'on', 'off', 'over', 'under', 'again', 'further',\\\n",
    "            'then', 'once', 'here', 'there', 'when', 'where', 'why', 'how', 'all', 'any', 'both', 'each', 'few', 'more',\\\n",
    "            'most', 'other', 'some', 'such', 'only', 'own', 'same', 'so', 'than', 'too', 'very', \\\n",
    "            's', 't', 'can', 'will', 'just', 'don', \"don't\", 'should', \"should've\", 'now', 'd', 'll', 'm', 'o', 're', \\\n",
    "            've', 'y', 'ain', 'aren', \"aren't\", 'couldn', \"couldn't\", 'didn', \"didn't\", 'doesn', \"doesn't\", 'hadn',\\\n",
    "            \"hadn't\", 'hasn', \"hasn't\", 'haven', \"haven't\", 'isn', \"isn't\", 'ma', 'mightn', \"mightn't\", 'mustn',\\\n",
    "            \"mustn't\", 'needn', \"needn't\", 'shan', \"shan't\", 'shouldn', \"shouldn't\", 'wasn', \"wasn't\", 'weren', \"weren't\", \\\n",
    "            'won', \"won't\", 'wouldn', \"wouldn't\"])\n",
    "\n",
    "re_stop_words = re.compile(r\"\\b(\" + \"|\".join(stopwords) + \")\\\\W\", re.I)"
   ]
  },
  {
   "cell_type": "code",
   "execution_count": 15,
   "id": "1a9c5030",
   "metadata": {
    "scrolled": true
   },
   "outputs": [
    {
     "data": {
      "text/html": [
       "<div>\n",
       "<style scoped>\n",
       "    .dataframe tbody tr th:only-of-type {\n",
       "        vertical-align: middle;\n",
       "    }\n",
       "\n",
       "    .dataframe tbody tr th {\n",
       "        vertical-align: top;\n",
       "    }\n",
       "\n",
       "    .dataframe thead th {\n",
       "        text-align: right;\n",
       "    }\n",
       "</style>\n",
       "<table border=\"1\" class=\"dataframe\">\n",
       "  <thead>\n",
       "    <tr style=\"text-align: right;\">\n",
       "      <th></th>\n",
       "      <th>user_id</th>\n",
       "      <th>game</th>\n",
       "      <th>sentiment</th>\n",
       "      <th>comment</th>\n",
       "      <th>positive</th>\n",
       "      <th>negative</th>\n",
       "      <th>neutral</th>\n",
       "      <th>irrelevant</th>\n",
       "    </tr>\n",
       "  </thead>\n",
       "  <tbody>\n",
       "    <tr>\n",
       "      <th>0</th>\n",
       "      <td>2401</td>\n",
       "      <td>Borderlands</td>\n",
       "      <td>Positive</td>\n",
       "      <td>get borderland murder</td>\n",
       "      <td>1</td>\n",
       "      <td>0</td>\n",
       "      <td>0</td>\n",
       "      <td>0</td>\n",
       "    </tr>\n",
       "    <tr>\n",
       "      <th>1</th>\n",
       "      <td>2401</td>\n",
       "      <td>Borderlands</td>\n",
       "      <td>Positive</td>\n",
       "      <td>come border kill</td>\n",
       "      <td>1</td>\n",
       "      <td>0</td>\n",
       "      <td>0</td>\n",
       "      <td>0</td>\n",
       "    </tr>\n",
       "    <tr>\n",
       "      <th>2</th>\n",
       "      <td>2401</td>\n",
       "      <td>Borderlands</td>\n",
       "      <td>Positive</td>\n",
       "      <td>get borderland kill</td>\n",
       "      <td>1</td>\n",
       "      <td>0</td>\n",
       "      <td>0</td>\n",
       "      <td>0</td>\n",
       "    </tr>\n",
       "    <tr>\n",
       "      <th>3</th>\n",
       "      <td>2401</td>\n",
       "      <td>Borderlands</td>\n",
       "      <td>Positive</td>\n",
       "      <td>come borderland murder</td>\n",
       "      <td>1</td>\n",
       "      <td>0</td>\n",
       "      <td>0</td>\n",
       "      <td>0</td>\n",
       "    </tr>\n",
       "    <tr>\n",
       "      <th>4</th>\n",
       "      <td>2401</td>\n",
       "      <td>Borderlands</td>\n",
       "      <td>Positive</td>\n",
       "      <td>get borderland 2 murder</td>\n",
       "      <td>1</td>\n",
       "      <td>0</td>\n",
       "      <td>0</td>\n",
       "      <td>0</td>\n",
       "    </tr>\n",
       "  </tbody>\n",
       "</table>\n",
       "</div>"
      ],
      "text/plain": [
       "   user_id         game sentiment                  comment  positive  \\\n",
       "0     2401  Borderlands  Positive    get borderland murder         1   \n",
       "1     2401  Borderlands  Positive         come border kill         1   \n",
       "2     2401  Borderlands  Positive      get borderland kill         1   \n",
       "3     2401  Borderlands  Positive   come borderland murder         1   \n",
       "4     2401  Borderlands  Positive  get borderland 2 murder         1   \n",
       "\n",
       "   negative  neutral  irrelevant  \n",
       "0         0        0           0  \n",
       "1         0        0           0  \n",
       "2         0        0           0  \n",
       "3         0        0           0  \n",
       "4         0        0           0  "
      ]
     },
     "execution_count": 15,
     "metadata": {},
     "output_type": "execute_result"
    }
   ],
   "source": [
    "data.comment = data.comment.apply(lambda x: decontract(str(x)))\n",
    "data.comment = data.comment.apply(remove_stop_words)\n",
    "data.comment = data.comment.apply(remove_punctuation)\n",
    "data[\"comment\"] = data.comment.apply(stem)\n",
    "data.head()"
   ]
  },
  {
   "cell_type": "code",
   "execution_count": 16,
   "id": "c9d071e7",
   "metadata": {},
   "outputs": [
    {
     "data": {
      "text/html": [
       "<div>\n",
       "<style scoped>\n",
       "    .dataframe tbody tr th:only-of-type {\n",
       "        vertical-align: middle;\n",
       "    }\n",
       "\n",
       "    .dataframe tbody tr th {\n",
       "        vertical-align: top;\n",
       "    }\n",
       "\n",
       "    .dataframe thead th {\n",
       "        text-align: right;\n",
       "    }\n",
       "</style>\n",
       "<table border=\"1\" class=\"dataframe\">\n",
       "  <thead>\n",
       "    <tr style=\"text-align: right;\">\n",
       "      <th></th>\n",
       "      <th>user_id</th>\n",
       "      <th>game</th>\n",
       "      <th>sentiment</th>\n",
       "      <th>comment</th>\n",
       "      <th>positive</th>\n",
       "      <th>negative</th>\n",
       "      <th>neutral</th>\n",
       "      <th>irrelevant</th>\n",
       "    </tr>\n",
       "  </thead>\n",
       "  <tbody>\n",
       "    <tr>\n",
       "      <th>74677</th>\n",
       "      <td>9200</td>\n",
       "      <td>Nvidia</td>\n",
       "      <td>Positive</td>\n",
       "      <td>realiz window partit mac like 6 year behind nv...</td>\n",
       "      <td>1</td>\n",
       "      <td>0</td>\n",
       "      <td>0</td>\n",
       "      <td>0</td>\n",
       "    </tr>\n",
       "    <tr>\n",
       "      <th>74678</th>\n",
       "      <td>9200</td>\n",
       "      <td>Nvidia</td>\n",
       "      <td>Positive</td>\n",
       "      <td>realiz mac window partit 6 year behind nvidia ...</td>\n",
       "      <td>1</td>\n",
       "      <td>0</td>\n",
       "      <td>0</td>\n",
       "      <td>0</td>\n",
       "    </tr>\n",
       "    <tr>\n",
       "      <th>74679</th>\n",
       "      <td>9200</td>\n",
       "      <td>Nvidia</td>\n",
       "      <td>Positive</td>\n",
       "      <td>realiz window partit mac 6 year behind nvidia ...</td>\n",
       "      <td>1</td>\n",
       "      <td>0</td>\n",
       "      <td>0</td>\n",
       "      <td>0</td>\n",
       "    </tr>\n",
       "    <tr>\n",
       "      <th>74680</th>\n",
       "      <td>9200</td>\n",
       "      <td>Nvidia</td>\n",
       "      <td>Positive</td>\n",
       "      <td>realiz window partit mac like 6 year behind nv...</td>\n",
       "      <td>1</td>\n",
       "      <td>0</td>\n",
       "      <td>0</td>\n",
       "      <td>0</td>\n",
       "    </tr>\n",
       "    <tr>\n",
       "      <th>74681</th>\n",
       "      <td>9200</td>\n",
       "      <td>Nvidia</td>\n",
       "      <td>Positive</td>\n",
       "      <td>like window partit mac like 6 year behind driv...</td>\n",
       "      <td>1</td>\n",
       "      <td>0</td>\n",
       "      <td>0</td>\n",
       "      <td>0</td>\n",
       "    </tr>\n",
       "  </tbody>\n",
       "</table>\n",
       "</div>"
      ],
      "text/plain": [
       "       user_id    game sentiment  \\\n",
       "74677     9200  Nvidia  Positive   \n",
       "74678     9200  Nvidia  Positive   \n",
       "74679     9200  Nvidia  Positive   \n",
       "74680     9200  Nvidia  Positive   \n",
       "74681     9200  Nvidia  Positive   \n",
       "\n",
       "                                                 comment  positive  negative  \\\n",
       "74677  realiz window partit mac like 6 year behind nv...         1         0   \n",
       "74678  realiz mac window partit 6 year behind nvidia ...         1         0   \n",
       "74679  realiz window partit mac 6 year behind nvidia ...         1         0   \n",
       "74680  realiz window partit mac like 6 year behind nv...         1         0   \n",
       "74681  like window partit mac like 6 year behind driv...         1         0   \n",
       "\n",
       "       neutral  irrelevant  \n",
       "74677        0           0  \n",
       "74678        0           0  \n",
       "74679        0           0  \n",
       "74680        0           0  \n",
       "74681        0           0  "
      ]
     },
     "execution_count": 16,
     "metadata": {},
     "output_type": "execute_result"
    }
   ],
   "source": [
    "data.tail()"
   ]
  },
  {
   "cell_type": "code",
   "execution_count": 17,
   "id": "80825ac1",
   "metadata": {},
   "outputs": [
    {
     "data": {
      "text/plain": [
       "(71739, 8)"
      ]
     },
     "execution_count": 17,
     "metadata": {},
     "output_type": "execute_result"
    }
   ],
   "source": [
    "data.shape"
   ]
  },
  {
   "cell_type": "markdown",
   "id": "8538aad3",
   "metadata": {},
   "source": [
    "# Modeling"
   ]
  },
  {
   "cell_type": "code",
   "execution_count": 18,
   "id": "36aeb2b2",
   "metadata": {},
   "outputs": [],
   "source": [
    "seed = 1"
   ]
  },
  {
   "cell_type": "code",
   "execution_count": 19,
   "id": "f99e374e",
   "metadata": {},
   "outputs": [],
   "source": [
    "X_train, X_test, y_train, y_test = train_test_split(data[\"comment\"], \n",
    "                                                    data[data.columns[4:]],\n",
    "                                                    test_size=0.3, \n",
    "                                                    random_state=seed, \n",
    "                                                    shuffle=True)\n",
    "vectorizer = TfidfVectorizer(strip_accents='unicode', analyzer='word', ngram_range=(1,3), norm='l2')\n",
    "vectorizer.fit(X_train)\n",
    "\n",
    "X_train = vectorizer.transform(X_train)\n",
    "X_test = vectorizer.transform(X_test)"
   ]
  },
  {
   "cell_type": "code",
   "execution_count": 21,
   "id": "fc7b2789",
   "metadata": {},
   "outputs": [
    {
     "name": "stdout",
     "output_type": "stream",
     "text": [
      "**Processing positive titles...**\n",
      "AUC ROC score is 0.7895543511736443\n",
      "\n",
      "\n",
      "**Processing negative titles...**\n",
      "AUC ROC score is 0.8369573744104015\n",
      "\n",
      "\n",
      "**Processing neutral titles...**\n",
      "AUC ROC score is 0.7345553180882074\n",
      "\n",
      "\n",
      "**Processing irrelevant titles...**\n",
      "AUC ROC score is 0.6044446902085875\n",
      "\n",
      "\n",
      "Test averaged AUC ROC is 0.8720262986711272\n"
     ]
    }
   ],
   "source": [
    "from sklearn.linear_model import LogisticRegression\n",
    "from sklearn.pipeline import Pipeline\n",
    "from sklearn.metrics import f1_score\n",
    "from sklearn.metrics import roc_auc_score\n",
    "from sklearn.metrics import precision_score\n",
    "from sklearn.metrics import recall_score\n",
    "from sklearn.metrics import accuracy_score\n",
    "from sklearn.multiclass import OneVsRestClassifier\n",
    "\n",
    "\n",
    "LR_pipeline = Pipeline([('clf', OneVsRestClassifier(LogisticRegression(solver='sag'), n_jobs=-1))])\n",
    "accuracy = 0\n",
    "for sentiment in data.columns[4:]:\n",
    "    print('**Processing {} titles...**'.format(sentiment))\n",
    "    \n",
    "    # Training logistic regression model on train data\n",
    "    LR_pipeline.fit(X_train, y_train[sentiment])\n",
    "    \n",
    "    # calculating test accuracy\n",
    "    prediction = LR_pipeline.predict(X_test)\n",
    "    accuracy = accuracy + accuracy_score(y_test[sentiment], prediction)\n",
    "    print('AUC ROC score is {}'.format(roc_auc_score(y_test[sentiment],prediction)))\n",
    "    print(\"\\n\")\n",
    "\n",
    "print('Test averaged AUC ROC is {}'.format(accuracy/len(data.columns[4:])))"
   ]
  },
  {
   "cell_type": "code",
   "execution_count": 37,
   "id": "96d197af",
   "metadata": {},
   "outputs": [
    {
     "name": "stdout",
     "output_type": "stream",
     "text": [
      "**Processing positive titles...**\n",
      "AUC ROC is 0.6808117840382665\n",
      "\n",
      "\n",
      "**Processing negative titles...**\n",
      "AUC ROC is 0.7731720608842456\n",
      "\n",
      "\n",
      "**Processing neutral titles...**\n",
      "AUC ROC is 0.6763155482787783\n",
      "\n",
      "\n",
      "**Processing irrelevant titles...**\n",
      "AUC ROC is 0.5579725179957139\n",
      "\n",
      "\n",
      "Test averaged AUC ROC is 0.8431604869435927\n"
     ]
    }
   ],
   "source": [
    "from sklearn.naive_bayes import MultinomialNB\n",
    "\n",
    "NB_pipeline = Pipeline([('clf', OneVsRestClassifier(MultinomialNB(\n",
    "                    fit_prior=True, class_prior=None)))])\n",
    "accuracy = 0\n",
    "for sentiment in data.columns[4:]:\n",
    "    print('**Processing {} titles...**'.format(sentiment))\n",
    "    \n",
    "    # Training logistic regression model on train data\n",
    "    NB_pipeline.fit(X_train, y_train[sentiment])\n",
    "    \n",
    "    # calculating test accuracy\n",
    "    prediction = NB_pipeline.predict(X_test)\n",
    "    accuracy = accuracy + accuracy_score(y_test[sentiment], prediction)\n",
    "    print('AUC ROC is {}'.format(roc_auc_score(y_test[sentiment],prediction)))\n",
    "    print(\"\\n\")\n",
    "\n",
    "print('Test averaged AUC ROC is {}'.format(accuracy/len(data.columns[4:])))"
   ]
  },
  {
   "cell_type": "code",
   "execution_count": 39,
   "id": "3d466b40",
   "metadata": {},
   "outputs": [
    {
     "name": "stdout",
     "output_type": "stream",
     "text": [
      "0.8431604869435927\n"
     ]
    }
   ],
   "source": [
    "print(accuracy/4)"
   ]
  },
  {
   "cell_type": "code",
   "execution_count": 46,
   "id": "81d5c4b3",
   "metadata": {},
   "outputs": [
    {
     "name": "stdout",
     "output_type": "stream",
     "text": [
      "**Processing positive titles...**\n",
      "AUC ROC is 0.9302070649095565\n",
      "\n",
      "\n",
      "**Processing negative titles...**\n",
      "AUC ROC is 0.9458967459946105\n",
      "\n",
      "\n",
      "**Processing neutral titles...**\n",
      "AUC ROC is 0.9279794514365387\n",
      "\n",
      "\n",
      "**Processing irrelevant titles...**\n",
      "AUC ROC is 0.9213596768740555\n",
      "\n",
      "\n",
      "Test averaged AUC ROC is 0.9313607348036903\n"
     ]
    }
   ],
   "source": [
    "from sklearn.svm import LinearSVC\n",
    "\n",
    "SVC_pipeline = Pipeline([('clf', OneVsRestClassifier(LinearSVC(), n_jobs=1))])\n",
    "\n",
    "accuracy = 0\n",
    "for sentiment in data.columns[4:]:\n",
    "    print('**Processing {} titles...**'.format(sentiment))\n",
    "    \n",
    "    # Training logistic regression model on train data\n",
    "    SVC_pipeline.fit(X_train, y_train[sentiment])\n",
    "    \n",
    "    # calculating test accuracy\n",
    "    prediction = SVC_pipeline.predict(X_test)\n",
    "    accuracy = accuracy + roc_auc_score(y_test[sentiment], prediction)\n",
    "    print('AUC ROC is {}'.format(roc_auc_score(y_test[sentiment],prediction)))\n",
    "    print(\"\\n\")\n",
    "\n",
    "print('Test averaged AUC ROC is {}'.format(accuracy/len(data.columns[4:])))"
   ]
  },
  {
   "cell_type": "code",
   "execution_count": 49,
   "id": "e84721ad",
   "metadata": {},
   "outputs": [
    {
     "data": {
      "text/plain": [
       "['model.pkl']"
      ]
     },
     "execution_count": 49,
     "metadata": {},
     "output_type": "execute_result"
    }
   ],
   "source": [
    "import joblib\n",
    "joblib.dump(SVC_pipeline[0], 'model.pkl')"
   ]
  },
  {
   "cell_type": "code",
   "execution_count": 48,
   "id": "3bbf1c60",
   "metadata": {},
   "outputs": [
    {
     "data": {
      "text/plain": [
       "OneVsRestClassifier(estimator=LinearSVC(), n_jobs=1)"
      ]
     },
     "execution_count": 48,
     "metadata": {},
     "output_type": "execute_result"
    }
   ],
   "source": [
    "SVC_pipeline[0]"
   ]
  },
  {
   "cell_type": "code",
   "execution_count": 50,
   "id": "4846f381",
   "metadata": {},
   "outputs": [],
   "source": [
    "clf = joblib.load('model.pkl')"
   ]
  }
 ],
 "metadata": {
  "kernelspec": {
   "display_name": "Python 3",
   "language": "python",
   "name": "python3"
  },
  "language_info": {
   "codemirror_mode": {
    "name": "ipython",
    "version": 3
   },
   "file_extension": ".py",
   "mimetype": "text/x-python",
   "name": "python",
   "nbconvert_exporter": "python",
   "pygments_lexer": "ipython3",
   "version": "3.8.8"
  }
 },
 "nbformat": 4,
 "nbformat_minor": 5
}
