{
 "cells": [
  {
   "cell_type": "markdown",
   "id": "041dad03",
   "metadata": {},
   "source": [
    "# Exploratory data analysis"
   ]
  },
  {
   "cell_type": "code",
   "execution_count": 40,
   "id": "3a5e86ee",
   "metadata": {},
   "outputs": [],
   "source": [
    "import pandas as pd\n",
    "import seaborn as sns\n",
    "import matplotlib.pyplot as plt\n",
    "from nltk.stem.snowball import SnowballStemmer\n",
    "from sklearn.model_selection import train_test_split\n",
    "from sklearn.feature_extraction.text import TfidfVectorizer\n",
    "from sklearn.neighbors import KNeighborsClassifier\n",
    "from sklearn.multioutput import MultiOutputClassifier\n",
    "import re"
   ]
  },
  {
   "cell_type": "code",
   "execution_count": 41,
   "id": "5fd2ee7e",
   "metadata": {},
   "outputs": [
    {
     "data": {
      "text/html": [
       "<div>\n",
       "<style scoped>\n",
       "    .dataframe tbody tr th:only-of-type {\n",
       "        vertical-align: middle;\n",
       "    }\n",
       "\n",
       "    .dataframe tbody tr th {\n",
       "        vertical-align: top;\n",
       "    }\n",
       "\n",
       "    .dataframe thead th {\n",
       "        text-align: right;\n",
       "    }\n",
       "</style>\n",
       "<table border=\"1\" class=\"dataframe\">\n",
       "  <thead>\n",
       "    <tr style=\"text-align: right;\">\n",
       "      <th></th>\n",
       "      <th>0</th>\n",
       "      <th>1</th>\n",
       "      <th>2</th>\n",
       "      <th>3</th>\n",
       "    </tr>\n",
       "  </thead>\n",
       "  <tbody>\n",
       "    <tr>\n",
       "      <th>0</th>\n",
       "      <td>2401</td>\n",
       "      <td>Borderlands</td>\n",
       "      <td>Positive</td>\n",
       "      <td>im getting on borderlands and i will murder yo...</td>\n",
       "    </tr>\n",
       "    <tr>\n",
       "      <th>1</th>\n",
       "      <td>2401</td>\n",
       "      <td>Borderlands</td>\n",
       "      <td>Positive</td>\n",
       "      <td>I am coming to the borders and I will kill you...</td>\n",
       "    </tr>\n",
       "    <tr>\n",
       "      <th>2</th>\n",
       "      <td>2401</td>\n",
       "      <td>Borderlands</td>\n",
       "      <td>Positive</td>\n",
       "      <td>im getting on borderlands and i will kill you ...</td>\n",
       "    </tr>\n",
       "    <tr>\n",
       "      <th>3</th>\n",
       "      <td>2401</td>\n",
       "      <td>Borderlands</td>\n",
       "      <td>Positive</td>\n",
       "      <td>im coming on borderlands and i will murder you...</td>\n",
       "    </tr>\n",
       "    <tr>\n",
       "      <th>4</th>\n",
       "      <td>2401</td>\n",
       "      <td>Borderlands</td>\n",
       "      <td>Positive</td>\n",
       "      <td>im getting on borderlands 2 and i will murder ...</td>\n",
       "    </tr>\n",
       "  </tbody>\n",
       "</table>\n",
       "</div>"
      ],
      "text/plain": [
       "      0            1         2  \\\n",
       "0  2401  Borderlands  Positive   \n",
       "1  2401  Borderlands  Positive   \n",
       "2  2401  Borderlands  Positive   \n",
       "3  2401  Borderlands  Positive   \n",
       "4  2401  Borderlands  Positive   \n",
       "\n",
       "                                                   3  \n",
       "0  im getting on borderlands and i will murder yo...  \n",
       "1  I am coming to the borders and I will kill you...  \n",
       "2  im getting on borderlands and i will kill you ...  \n",
       "3  im coming on borderlands and i will murder you...  \n",
       "4  im getting on borderlands 2 and i will murder ...  "
      ]
     },
     "execution_count": 41,
     "metadata": {},
     "output_type": "execute_result"
    }
   ],
   "source": [
    "filepath = \"/Users/rodolfo.saldanha/Desktop/sentiment_analysis_challenge/data/labelled_text.csv\"\n",
    "data = pd.read_csv(filepath, header=None, encoding=\"ISO-8859-1\")\n",
    "data.head()"
   ]
  },
  {
   "cell_type": "code",
   "execution_count": 42,
   "id": "8a52e833",
   "metadata": {},
   "outputs": [
    {
     "data": {
      "text/html": [
       "<div>\n",
       "<style scoped>\n",
       "    .dataframe tbody tr th:only-of-type {\n",
       "        vertical-align: middle;\n",
       "    }\n",
       "\n",
       "    .dataframe tbody tr th {\n",
       "        vertical-align: top;\n",
       "    }\n",
       "\n",
       "    .dataframe thead th {\n",
       "        text-align: right;\n",
       "    }\n",
       "</style>\n",
       "<table border=\"1\" class=\"dataframe\">\n",
       "  <thead>\n",
       "    <tr style=\"text-align: right;\">\n",
       "      <th></th>\n",
       "      <th>user_id</th>\n",
       "      <th>game</th>\n",
       "      <th>sentiment</th>\n",
       "      <th>comment</th>\n",
       "    </tr>\n",
       "  </thead>\n",
       "  <tbody>\n",
       "    <tr>\n",
       "      <th>0</th>\n",
       "      <td>2401</td>\n",
       "      <td>Borderlands</td>\n",
       "      <td>Positive</td>\n",
       "      <td>im getting on borderlands and i will murder yo...</td>\n",
       "    </tr>\n",
       "    <tr>\n",
       "      <th>1</th>\n",
       "      <td>2401</td>\n",
       "      <td>Borderlands</td>\n",
       "      <td>Positive</td>\n",
       "      <td>I am coming to the borders and I will kill you...</td>\n",
       "    </tr>\n",
       "    <tr>\n",
       "      <th>2</th>\n",
       "      <td>2401</td>\n",
       "      <td>Borderlands</td>\n",
       "      <td>Positive</td>\n",
       "      <td>im getting on borderlands and i will kill you ...</td>\n",
       "    </tr>\n",
       "    <tr>\n",
       "      <th>3</th>\n",
       "      <td>2401</td>\n",
       "      <td>Borderlands</td>\n",
       "      <td>Positive</td>\n",
       "      <td>im coming on borderlands and i will murder you...</td>\n",
       "    </tr>\n",
       "    <tr>\n",
       "      <th>4</th>\n",
       "      <td>2401</td>\n",
       "      <td>Borderlands</td>\n",
       "      <td>Positive</td>\n",
       "      <td>im getting on borderlands 2 and i will murder ...</td>\n",
       "    </tr>\n",
       "    <tr>\n",
       "      <th>...</th>\n",
       "      <td>...</td>\n",
       "      <td>...</td>\n",
       "      <td>...</td>\n",
       "      <td>...</td>\n",
       "    </tr>\n",
       "    <tr>\n",
       "      <th>74677</th>\n",
       "      <td>9200</td>\n",
       "      <td>Nvidia</td>\n",
       "      <td>Positive</td>\n",
       "      <td>Just realized that the Windows partition of my...</td>\n",
       "    </tr>\n",
       "    <tr>\n",
       "      <th>74678</th>\n",
       "      <td>9200</td>\n",
       "      <td>Nvidia</td>\n",
       "      <td>Positive</td>\n",
       "      <td>Just realized that my Mac window partition is ...</td>\n",
       "    </tr>\n",
       "    <tr>\n",
       "      <th>74679</th>\n",
       "      <td>9200</td>\n",
       "      <td>Nvidia</td>\n",
       "      <td>Positive</td>\n",
       "      <td>Just realized the windows partition of my Mac ...</td>\n",
       "    </tr>\n",
       "    <tr>\n",
       "      <th>74680</th>\n",
       "      <td>9200</td>\n",
       "      <td>Nvidia</td>\n",
       "      <td>Positive</td>\n",
       "      <td>Just realized between the windows partition of...</td>\n",
       "    </tr>\n",
       "    <tr>\n",
       "      <th>74681</th>\n",
       "      <td>9200</td>\n",
       "      <td>Nvidia</td>\n",
       "      <td>Positive</td>\n",
       "      <td>Just like the windows partition of my Mac is l...</td>\n",
       "    </tr>\n",
       "  </tbody>\n",
       "</table>\n",
       "<p>74682 rows × 4 columns</p>\n",
       "</div>"
      ],
      "text/plain": [
       "       user_id         game sentiment  \\\n",
       "0         2401  Borderlands  Positive   \n",
       "1         2401  Borderlands  Positive   \n",
       "2         2401  Borderlands  Positive   \n",
       "3         2401  Borderlands  Positive   \n",
       "4         2401  Borderlands  Positive   \n",
       "...        ...          ...       ...   \n",
       "74677     9200       Nvidia  Positive   \n",
       "74678     9200       Nvidia  Positive   \n",
       "74679     9200       Nvidia  Positive   \n",
       "74680     9200       Nvidia  Positive   \n",
       "74681     9200       Nvidia  Positive   \n",
       "\n",
       "                                                 comment  \n",
       "0      im getting on borderlands and i will murder yo...  \n",
       "1      I am coming to the borders and I will kill you...  \n",
       "2      im getting on borderlands and i will kill you ...  \n",
       "3      im coming on borderlands and i will murder you...  \n",
       "4      im getting on borderlands 2 and i will murder ...  \n",
       "...                                                  ...  \n",
       "74677  Just realized that the Windows partition of my...  \n",
       "74678  Just realized that my Mac window partition is ...  \n",
       "74679  Just realized the windows partition of my Mac ...  \n",
       "74680  Just realized between the windows partition of...  \n",
       "74681  Just like the windows partition of my Mac is l...  \n",
       "\n",
       "[74682 rows x 4 columns]"
      ]
     },
     "execution_count": 42,
     "metadata": {},
     "output_type": "execute_result"
    }
   ],
   "source": [
    "data.columns = [\"user_id\", \"game\", \"sentiment\", \"comment\"]\n",
    "data"
   ]
  },
  {
   "cell_type": "code",
   "execution_count": 43,
   "id": "cbf754db",
   "metadata": {},
   "outputs": [],
   "source": [
    "data.comment = data.comment.str.lower()\n",
    "data.drop_duplicates([\"user_id\", \"game\", \"sentiment\", \"comment\"], inplace=True)"
   ]
  },
  {
   "cell_type": "code",
   "execution_count": 44,
   "id": "c05c1bea",
   "metadata": {},
   "outputs": [
    {
     "data": {
      "text/plain": [
       "(71745, 4)"
      ]
     },
     "execution_count": 44,
     "metadata": {},
     "output_type": "execute_result"
    }
   ],
   "source": [
    "data.shape"
   ]
  },
  {
   "cell_type": "code",
   "execution_count": 45,
   "id": "6365e7b7",
   "metadata": {},
   "outputs": [
    {
     "data": {
      "text/plain": [
       "Negative      21718\n",
       "Positive      19721\n",
       "Neutral       17759\n",
       "Irrelevant    12547\n",
       "Name: sentiment, dtype: int64"
      ]
     },
     "execution_count": 45,
     "metadata": {},
     "output_type": "execute_result"
    }
   ],
   "source": [
    "sentiment_distribution = data[\"sentiment\"].value_counts()\n",
    "sentiment_distribution"
   ]
  },
  {
   "cell_type": "code",
   "execution_count": 46,
   "id": "142fdf70",
   "metadata": {},
   "outputs": [
    {
     "data": {
      "image/png": "[encoded data removed]",
      "text/plain": [
       "<Figure size 720x432 with 1 Axes>"
      ]
     },
     "metadata": {},
     "output_type": "display_data"
    }
   ],
   "source": [
    "sns.set(font_scale = 1.5)\n",
    "sns.set_style(\"whitegrid\") \n",
    "plt.figure(figsize=(10,6))\n",
    "\n",
    "sns.barplot(x=sentiment_distribution.index, y=sentiment_distribution.values)\n",
    "plt.title(\"Distribution of comment sentiments\", fontsize=24)\n",
    "plt.ylabel(\"Number of comments\", fontsize=14)\n",
    "plt.xlabel(\"Sentiment\", fontsize=14)\n",
    "\n",
    "plt.show()"
   ]
  },
  {
   "cell_type": "code",
   "execution_count": 47,
   "id": "2341df6d",
   "metadata": {},
   "outputs": [],
   "source": [
    "data[\"positive\"] = 0\n",
    "data[\"negative\"] = 0\n",
    "data[\"neutral\"] = 0\n",
    "data[\"irrelevant\"] = 0\n",
    "data.loc[data[\"sentiment\"].str.lower() == \"positive\", [\"positive\"]] = 1\n",
    "data.loc[data[\"sentiment\"].str.lower() == \"negative\", [\"negative\"]] = 1\n",
    "data.loc[data[\"sentiment\"].str.lower() == \"neutral\", [\"neutral\"]] = 1\n",
    "data.loc[data[\"sentiment\"].str.lower() == \"irrelevant\", [\"irrelevant\"]] = 1"
   ]
  },
  {
   "cell_type": "code",
   "execution_count": 48,
   "id": "c1f7c373",
   "metadata": {},
   "outputs": [
    {
     "data": {
      "text/html": [
       "<div>\n",
       "<style scoped>\n",
       "    .dataframe tbody tr th:only-of-type {\n",
       "        vertical-align: middle;\n",
       "    }\n",
       "\n",
       "    .dataframe tbody tr th {\n",
       "        vertical-align: top;\n",
       "    }\n",
       "\n",
       "    .dataframe thead th {\n",
       "        text-align: right;\n",
       "    }\n",
       "</style>\n",
       "<table border=\"1\" class=\"dataframe\">\n",
       "  <thead>\n",
       "    <tr style=\"text-align: right;\">\n",
       "      <th></th>\n",
       "      <th>user_id</th>\n",
       "      <th>game</th>\n",
       "      <th>sentiment</th>\n",
       "      <th>comment</th>\n",
       "      <th>positive</th>\n",
       "      <th>negative</th>\n",
       "      <th>neutral</th>\n",
       "      <th>irrelevant</th>\n",
       "    </tr>\n",
       "  </thead>\n",
       "  <tbody>\n",
       "    <tr>\n",
       "      <th>0</th>\n",
       "      <td>2401</td>\n",
       "      <td>Borderlands</td>\n",
       "      <td>Positive</td>\n",
       "      <td>im getting on borderlands and i will murder yo...</td>\n",
       "      <td>1</td>\n",
       "      <td>0</td>\n",
       "      <td>0</td>\n",
       "      <td>0</td>\n",
       "    </tr>\n",
       "    <tr>\n",
       "      <th>1</th>\n",
       "      <td>2401</td>\n",
       "      <td>Borderlands</td>\n",
       "      <td>Positive</td>\n",
       "      <td>i am coming to the borders and i will kill you...</td>\n",
       "      <td>1</td>\n",
       "      <td>0</td>\n",
       "      <td>0</td>\n",
       "      <td>0</td>\n",
       "    </tr>\n",
       "    <tr>\n",
       "      <th>2</th>\n",
       "      <td>2401</td>\n",
       "      <td>Borderlands</td>\n",
       "      <td>Positive</td>\n",
       "      <td>im getting on borderlands and i will kill you ...</td>\n",
       "      <td>1</td>\n",
       "      <td>0</td>\n",
       "      <td>0</td>\n",
       "      <td>0</td>\n",
       "    </tr>\n",
       "    <tr>\n",
       "      <th>3</th>\n",
       "      <td>2401</td>\n",
       "      <td>Borderlands</td>\n",
       "      <td>Positive</td>\n",
       "      <td>im coming on borderlands and i will murder you...</td>\n",
       "      <td>1</td>\n",
       "      <td>0</td>\n",
       "      <td>0</td>\n",
       "      <td>0</td>\n",
       "    </tr>\n",
       "    <tr>\n",
       "      <th>4</th>\n",
       "      <td>2401</td>\n",
       "      <td>Borderlands</td>\n",
       "      <td>Positive</td>\n",
       "      <td>im getting on borderlands 2 and i will murder ...</td>\n",
       "      <td>1</td>\n",
       "      <td>0</td>\n",
       "      <td>0</td>\n",
       "      <td>0</td>\n",
       "    </tr>\n",
       "  </tbody>\n",
       "</table>\n",
       "</div>"
      ],
      "text/plain": [
       "   user_id         game sentiment  \\\n",
       "0     2401  Borderlands  Positive   \n",
       "1     2401  Borderlands  Positive   \n",
       "2     2401  Borderlands  Positive   \n",
       "3     2401  Borderlands  Positive   \n",
       "4     2401  Borderlands  Positive   \n",
       "\n",
       "                                             comment  positive  negative  \\\n",
       "0  im getting on borderlands and i will murder yo...         1         0   \n",
       "1  i am coming to the borders and i will kill you...         1         0   \n",
       "2  im getting on borderlands and i will kill you ...         1         0   \n",
       "3  im coming on borderlands and i will murder you...         1         0   \n",
       "4  im getting on borderlands 2 and i will murder ...         1         0   \n",
       "\n",
       "   neutral  irrelevant  \n",
       "0        0           0  \n",
       "1        0           0  \n",
       "2        0           0  \n",
       "3        0           0  \n",
       "4        0           0  "
      ]
     },
     "execution_count": 48,
     "metadata": {},
     "output_type": "execute_result"
    }
   ],
   "source": [
    "data.head()"
   ]
  },
  {
   "cell_type": "code",
   "execution_count": 49,
   "id": "3f36769c",
   "metadata": {},
   "outputs": [],
   "source": [
    "boxplot = data.copy()\n",
    "boxplot[\"comment_length\"] = data.comment.apply(lambda x: len(str(x)))"
   ]
  },
  {
   "cell_type": "code",
   "execution_count": 50,
   "id": "56549a79",
   "metadata": {},
   "outputs": [
    {
     "data": {
      "image/png": "[encoded data removed]",
      "text/plain": [
       "<Figure size 648x288 with 1 Axes>"
      ]
     },
     "metadata": {},
     "output_type": "display_data"
    }
   ],
   "source": [
    "sns.set(style=\"whitegrid\",rc={\"font.size\":13,\"axes.labelsize\":13})\n",
    "\n",
    "plt.figure(figsize=(9, 4))\n",
    "\n",
    "ax = sns.boxplot(x=\"comment_length\", data=boxplot, orient=\"h\", palette=\"Set2\")\n",
    "plt.ylabel(\"\")\n",
    "plt.xlabel(\"Words\")\n",
    "plt.title(\"Distribution of the word frequency\", fontsize=16)\n",
    "plt.tight_layout(h_pad=3)"
   ]
  },
  {
   "cell_type": "markdown",
   "id": "586638a1",
   "metadata": {},
   "source": [
    "# Preprocessing"
   ]
  },
  {
   "cell_type": "code",
   "execution_count": 51,
   "id": "35f321c7",
   "metadata": {},
   "outputs": [],
   "source": [
    "def remove_stop_words(sentence):\n",
    "    global re_stop_words\n",
    "    return re_stop_words.sub(\"\", sentence)\n",
    "\n",
    "def decontract(token):\n",
    "    token = re.sub(r\"won't\", \"will not\", token)\n",
    "    token = re.sub(r\"can\\'t\", \"can not\", token)\n",
    "    token = re.sub(r\"n\\'t\", \" not\", token)\n",
    "    token = re.sub(r\"\\'re\", \" are\", token)\n",
    "    token = re.sub(r\"\\'s\", \" is\", token)\n",
    "    token = re.sub(r\"\\'d\", \" would\", token)\n",
    "    token = re.sub(r\"\\'ll\", \" will\", token)\n",
    "    token = re.sub(r\"\\'t\", \" not\", token)\n",
    "    token = re.sub(r\"\\'ve\", \" have\", token)\n",
    "    token = re.sub(r\"\\'m\", \" am\", token)\n",
    "    return token\n",
    "\n",
    "def remove_punctuation(token): \n",
    "    token = re.sub(r'[?|!|\\'|\"|#]',r'',token)\n",
    "    token = re.sub(r'[.|,|)|(|\\|/]',r' ',token)\n",
    "    token = token.strip()\n",
    "    token = token.replace(\"\\n\",\" \")\n",
    "    return token"
   ]
  },
  {
   "cell_type": "code",
   "execution_count": 52,
   "id": "b2352bd6",
   "metadata": {},
   "outputs": [],
   "source": [
    "stemmer = SnowballStemmer(\"english\")\n",
    "def stem(token):\n",
    "    stem_token = \"\"\n",
    "    for word in token.split():\n",
    "        stem = stemmer.stem(word)\n",
    "        stem_token += stem\n",
    "        stem_token += \" \"\n",
    "    stem_token = stem_token.strip()\n",
    "    return stem_token"
   ]
  },
  {
   "cell_type": "code",
   "execution_count": 53,
   "id": "42cc6a77",
   "metadata": {},
   "outputs": [],
   "source": [
    "stopwords= set(['br', 'the', 'i', 'im', 'me', 'my', 'myself', 'we', 'our', 'ours', 'ourselves', 'you', \"you're\", \"you've\",\\\n",
    "            \"you'll\", \"you'd\", 'your', 'yours', 'yourself', 'yourselves', 'he', 'him', 'his', 'himself', \\\n",
    "            'she', \"she's\", 'her', 'hers', 'herself', 'it', \"it's\", 'its', 'itself', 'they', 'them', 'their',\\\n",
    "            'theirs', 'themselves', 'what', 'which', 'who', 'whom', 'this', 'that', \"that'll\", 'these', 'those', \\\n",
    "            'am', 'is', 'are', 'was', 'were', 'be', 'been', 'being', 'have', 'has', 'had', 'having', 'do', 'does', \\\n",
    "            'did', 'doing', 'a', 'an', 'the', 'and', 'but', 'if', 'or', 'because', 'as', 'until', 'while', 'of', \\\n",
    "            'at', 'by', 'for', 'with', 'about', 'against', 'between', 'into', 'through', 'during', 'before', 'after',\\\n",
    "            'above', 'below', 'to', 'from', 'up', 'down', 'in', 'out', 'on', 'off', 'over', 'under', 'again', 'further',\\\n",
    "            'then', 'once', 'here', 'there', 'when', 'where', 'why', 'how', 'all', 'any', 'both', 'each', 'few', 'more',\\\n",
    "            'most', 'other', 'some', 'such', 'only', 'own', 'same', 'so', 'than', 'too', 'very', \\\n",
    "            's', 't', 'can', 'will', 'just', 'don', \"don't\", 'should', \"should've\", 'now', 'd', 'll', 'm', 'o', 're', \\\n",
    "            've', 'y', 'ain', 'aren', \"aren't\", 'couldn', \"couldn't\", 'didn', \"didn't\", 'doesn', \"doesn't\", 'hadn',\\\n",
    "            \"hadn't\", 'hasn', \"hasn't\", 'haven', \"haven't\", 'isn', \"isn't\", 'ma', 'mightn', \"mightn't\", 'mustn',\\\n",
    "            \"mustn't\", 'needn', \"needn't\", 'shan', \"shan't\", 'shouldn', \"shouldn't\", 'wasn', \"wasn't\", 'weren', \"weren't\", \\\n",
    "            'won', \"won't\", 'wouldn', \"wouldn't\"])\n",
    "\n",
    "re_stop_words = re.compile(r\"\\b(\" + \"|\".join(stopwords) + \")\\\\W\", re.I)"
   ]
  },
  {
   "cell_type": "code",
   "execution_count": 54,
   "id": "1a9c5030",
   "metadata": {
    "scrolled": true
   },
   "outputs": [
    {
     "data": {
      "text/html": [
       "<div>\n",
       "<style scoped>\n",
       "    .dataframe tbody tr th:only-of-type {\n",
       "        vertical-align: middle;\n",
       "    }\n",
       "\n",
       "    .dataframe tbody tr th {\n",
       "        vertical-align: top;\n",
       "    }\n",
       "\n",
       "    .dataframe thead th {\n",
       "        text-align: right;\n",
       "    }\n",
       "</style>\n",
       "<table border=\"1\" class=\"dataframe\">\n",
       "  <thead>\n",
       "    <tr style=\"text-align: right;\">\n",
       "      <th></th>\n",
       "      <th>user_id</th>\n",
       "      <th>game</th>\n",
       "      <th>sentiment</th>\n",
       "      <th>comment</th>\n",
       "      <th>positive</th>\n",
       "      <th>negative</th>\n",
       "      <th>neutral</th>\n",
       "      <th>irrelevant</th>\n",
       "    </tr>\n",
       "  </thead>\n",
       "  <tbody>\n",
       "    <tr>\n",
       "      <th>0</th>\n",
       "      <td>2401</td>\n",
       "      <td>Borderlands</td>\n",
       "      <td>Positive</td>\n",
       "      <td>get borderland murder</td>\n",
       "      <td>1</td>\n",
       "      <td>0</td>\n",
       "      <td>0</td>\n",
       "      <td>0</td>\n",
       "    </tr>\n",
       "    <tr>\n",
       "      <th>1</th>\n",
       "      <td>2401</td>\n",
       "      <td>Borderlands</td>\n",
       "      <td>Positive</td>\n",
       "      <td>come border kill</td>\n",
       "      <td>1</td>\n",
       "      <td>0</td>\n",
       "      <td>0</td>\n",
       "      <td>0</td>\n",
       "    </tr>\n",
       "    <tr>\n",
       "      <th>2</th>\n",
       "      <td>2401</td>\n",
       "      <td>Borderlands</td>\n",
       "      <td>Positive</td>\n",
       "      <td>get borderland kill</td>\n",
       "      <td>1</td>\n",
       "      <td>0</td>\n",
       "      <td>0</td>\n",
       "      <td>0</td>\n",
       "    </tr>\n",
       "    <tr>\n",
       "      <th>3</th>\n",
       "      <td>2401</td>\n",
       "      <td>Borderlands</td>\n",
       "      <td>Positive</td>\n",
       "      <td>come borderland murder</td>\n",
       "      <td>1</td>\n",
       "      <td>0</td>\n",
       "      <td>0</td>\n",
       "      <td>0</td>\n",
       "    </tr>\n",
       "    <tr>\n",
       "      <th>4</th>\n",
       "      <td>2401</td>\n",
       "      <td>Borderlands</td>\n",
       "      <td>Positive</td>\n",
       "      <td>get borderland 2 murder</td>\n",
       "      <td>1</td>\n",
       "      <td>0</td>\n",
       "      <td>0</td>\n",
       "      <td>0</td>\n",
       "    </tr>\n",
       "  </tbody>\n",
       "</table>\n",
       "</div>"
      ],
      "text/plain": [
       "   user_id         game sentiment                  comment  positive  \\\n",
       "0     2401  Borderlands  Positive    get borderland murder         1   \n",
       "1     2401  Borderlands  Positive         come border kill         1   \n",
       "2     2401  Borderlands  Positive      get borderland kill         1   \n",
       "3     2401  Borderlands  Positive   come borderland murder         1   \n",
       "4     2401  Borderlands  Positive  get borderland 2 murder         1   \n",
       "\n",
       "   negative  neutral  irrelevant  \n",
       "0         0        0           0  \n",
       "1         0        0           0  \n",
       "2         0        0           0  \n",
       "3         0        0           0  \n",
       "4         0        0           0  "
      ]
     },
     "execution_count": 54,
     "metadata": {},
     "output_type": "execute_result"
    }
   ],
   "source": [
    "data.comment = data.comment.apply(lambda x: decontract(str(x)))\n",
    "data.comment = data.comment.apply(remove_stop_words)\n",
    "data.comment = data.comment.apply(remove_punctuation)\n",
    "data[\"comment\"] = data.comment.apply(stem)\n",
    "data.head()"
   ]
  },
  {
   "cell_type": "code",
   "execution_count": 55,
   "id": "c9d071e7",
   "metadata": {},
   "outputs": [
    {
     "data": {
      "text/html": [
       "<div>\n",
       "<style scoped>\n",
       "    .dataframe tbody tr th:only-of-type {\n",
       "        vertical-align: middle;\n",
       "    }\n",
       "\n",
       "    .dataframe tbody tr th {\n",
       "        vertical-align: top;\n",
       "    }\n",
       "\n",
       "    .dataframe thead th {\n",
       "        text-align: right;\n",
       "    }\n",
       "</style>\n",
       "<table border=\"1\" class=\"dataframe\">\n",
       "  <thead>\n",
       "    <tr style=\"text-align: right;\">\n",
       "      <th></th>\n",
       "      <th>user_id</th>\n",
       "      <th>game</th>\n",
       "      <th>sentiment</th>\n",
       "      <th>comment</th>\n",
       "      <th>positive</th>\n",
       "      <th>negative</th>\n",
       "      <th>neutral</th>\n",
       "      <th>irrelevant</th>\n",
       "    </tr>\n",
       "  </thead>\n",
       "  <tbody>\n",
       "    <tr>\n",
       "      <th>74677</th>\n",
       "      <td>9200</td>\n",
       "      <td>Nvidia</td>\n",
       "      <td>Positive</td>\n",
       "      <td>realiz window partit mac like 6 year behind nv...</td>\n",
       "      <td>1</td>\n",
       "      <td>0</td>\n",
       "      <td>0</td>\n",
       "      <td>0</td>\n",
       "    </tr>\n",
       "    <tr>\n",
       "      <th>74678</th>\n",
       "      <td>9200</td>\n",
       "      <td>Nvidia</td>\n",
       "      <td>Positive</td>\n",
       "      <td>realiz mac window partit 6 year behind nvidia ...</td>\n",
       "      <td>1</td>\n",
       "      <td>0</td>\n",
       "      <td>0</td>\n",
       "      <td>0</td>\n",
       "    </tr>\n",
       "    <tr>\n",
       "      <th>74679</th>\n",
       "      <td>9200</td>\n",
       "      <td>Nvidia</td>\n",
       "      <td>Positive</td>\n",
       "      <td>realiz window partit mac 6 year behind nvidia ...</td>\n",
       "      <td>1</td>\n",
       "      <td>0</td>\n",
       "      <td>0</td>\n",
       "      <td>0</td>\n",
       "    </tr>\n",
       "    <tr>\n",
       "      <th>74680</th>\n",
       "      <td>9200</td>\n",
       "      <td>Nvidia</td>\n",
       "      <td>Positive</td>\n",
       "      <td>realiz window partit mac like 6 year behind nv...</td>\n",
       "      <td>1</td>\n",
       "      <td>0</td>\n",
       "      <td>0</td>\n",
       "      <td>0</td>\n",
       "    </tr>\n",
       "    <tr>\n",
       "      <th>74681</th>\n",
       "      <td>9200</td>\n",
       "      <td>Nvidia</td>\n",
       "      <td>Positive</td>\n",
       "      <td>like window partit mac like 6 year behind driv...</td>\n",
       "      <td>1</td>\n",
       "      <td>0</td>\n",
       "      <td>0</td>\n",
       "      <td>0</td>\n",
       "    </tr>\n",
       "  </tbody>\n",
       "</table>\n",
       "</div>"
      ],
      "text/plain": [
       "       user_id    game sentiment  \\\n",
       "74677     9200  Nvidia  Positive   \n",
       "74678     9200  Nvidia  Positive   \n",
       "74679     9200  Nvidia  Positive   \n",
       "74680     9200  Nvidia  Positive   \n",
       "74681     9200  Nvidia  Positive   \n",
       "\n",
       "                                                 comment  positive  negative  \\\n",
       "74677  realiz window partit mac like 6 year behind nv...         1         0   \n",
       "74678  realiz mac window partit 6 year behind nvidia ...         1         0   \n",
       "74679  realiz window partit mac 6 year behind nvidia ...         1         0   \n",
       "74680  realiz window partit mac like 6 year behind nv...         1         0   \n",
       "74681  like window partit mac like 6 year behind driv...         1         0   \n",
       "\n",
       "       neutral  irrelevant  \n",
       "74677        0           0  \n",
       "74678        0           0  \n",
       "74679        0           0  \n",
       "74680        0           0  \n",
       "74681        0           0  "
      ]
     },
     "execution_count": 55,
     "metadata": {},
     "output_type": "execute_result"
    }
   ],
   "source": [
    "data.tail()"
   ]
  },
  {
   "cell_type": "code",
   "execution_count": 56,
   "id": "80825ac1",
   "metadata": {},
   "outputs": [
    {
     "data": {
      "text/plain": [
       "(71745, 8)"
      ]
     },
     "execution_count": 56,
     "metadata": {},
     "output_type": "execute_result"
    }
   ],
   "source": [
    "data.shape"
   ]
  },
  {
   "cell_type": "markdown",
   "id": "8538aad3",
   "metadata": {},
   "source": [
    "# Modeling"
   ]
  },
  {
   "cell_type": "code",
   "execution_count": 57,
   "id": "36aeb2b2",
   "metadata": {},
   "outputs": [],
   "source": [
    "seeds = [3, 6, 97, 65, 1000]"
   ]
  },
  {
   "cell_type": "code",
   "execution_count": 58,
   "id": "f99e374e",
   "metadata": {},
   "outputs": [],
   "source": [
    "X_train, X_test, y_train, y_test = train_test_split(data[\"comment\"], \n",
    "                                                    data[data.columns[4:]],\n",
    "                                                    test_size=0.3, \n",
    "                                                    random_state=1, \n",
    "                                                    shuffle=True)\n",
    "vectorizer = TfidfVectorizer(strip_accents='unicode', analyzer='word', ngram_range=(1,3), norm='l2')\n",
    "vectorizer.fit(X_train)\n",
    "\n",
    "X_train = vectorizer.transform(X_train)\n",
    "X_test = vectorizer.transform(X_test)"
   ]
  },
  {
   "cell_type": "code",
   "execution_count": 59,
   "id": "fc7b2789",
   "metadata": {},
   "outputs": [
    {
     "name": "stdout",
     "output_type": "stream",
     "text": [
      "**Processing positive sentiment...**\n",
      "AUC ROC score is 0.779908152266018\n",
      "\n",
      "\n",
      "**Processing negative sentiment...**\n",
      "AUC ROC score is 0.8364872216194835\n",
      "\n",
      "\n",
      "**Processing neutral sentiment...**\n",
      "AUC ROC score is 0.7303326682090837\n",
      "\n",
      "\n",
      "**Processing irrelevant sentiment...**\n",
      "AUC ROC score is 0.601156592326872\n",
      "\n",
      "\n",
      "Test averaged AUC ROC is 0.7369711586053643\n"
     ]
    }
   ],
   "source": [
    "from sklearn.linear_model import LogisticRegression\n",
    "from sklearn.pipeline import Pipeline\n",
    "from sklearn.metrics import roc_auc_score\n",
    "from sklearn.multiclass import OneVsRestClassifier\n",
    "\n",
    "\n",
    "LR_pipeline = Pipeline([('clf', OneVsRestClassifier(LogisticRegression(solver='sag'), n_jobs=-1))])\n",
    "score = 0\n",
    "for sentiment in data.columns[4:]:\n",
    "    print('**Processing {} sentiment...**'.format(sentiment))\n",
    "    \n",
    "    # Training logistic regression model on train data\n",
    "    LR_pipeline.fit(X_train, y_train[sentiment])\n",
    "    \n",
    "    prediction = LR_pipeline.predict(X_test)\n",
    "    score = score + roc_auc_score(y_test[sentiment], prediction)\n",
    "    print('AUC ROC score is {}'.format(roc_auc_score(y_test[sentiment],prediction)))\n",
    "    print(\"\\n\")\n",
    "\n",
    "print('Test averaged AUC ROC is {}'.format(score/len(data.columns[4:])))"
   ]
  },
  {
   "cell_type": "code",
   "execution_count": 60,
   "id": "96d197af",
   "metadata": {},
   "outputs": [
    {
     "name": "stdout",
     "output_type": "stream",
     "text": [
      "**Processing positive sentiment...**\n",
      "AUC ROC is 0.6714125884428439\n",
      "\n",
      "\n",
      "**Processing negative sentiment...**\n",
      "AUC ROC is 0.7604729305986513\n",
      "\n",
      "\n",
      "**Processing neutral sentiment...**\n",
      "AUC ROC is 0.6608647551760517\n",
      "\n",
      "\n",
      "**Processing irrelevant sentiment...**\n",
      "AUC ROC is 0.5497005273681888\n",
      "\n",
      "\n",
      "Test averaged AUC ROC is 0.6606127003964339\n"
     ]
    }
   ],
   "source": [
    "from sklearn.naive_bayes import MultinomialNB\n",
    "\n",
    "NB_pipeline = Pipeline([('clf', OneVsRestClassifier(MultinomialNB(\n",
    "                    fit_prior=True, class_prior=None)))])\n",
    "score = 0\n",
    "for sentiment in data.columns[4:]:\n",
    "    print('**Processing {} sentiment...**'.format(sentiment))\n",
    "    \n",
    "    # Training logistic regression model on train data\n",
    "    NB_pipeline.fit(X_train, y_train[sentiment])\n",
    "    \n",
    "    prediction = NB_pipeline.predict(X_test)\n",
    "    score = score + roc_auc_score(y_test[sentiment], prediction)\n",
    "    print('AUC ROC is {}'.format(roc_auc_score(y_test[sentiment],prediction)))\n",
    "    print(\"\\n\")\n",
    "\n",
    "print('Test averaged AUC ROC is {}'.format(score/len(data.columns[4:])))"
   ]
  },
  {
   "cell_type": "code",
   "execution_count": 61,
   "id": "81d5c4b3",
   "metadata": {},
   "outputs": [
    {
     "name": "stdout",
     "output_type": "stream",
     "text": [
      "**Processing positive sentiment...**\n",
      "AUC ROC is 0.9276407613698088\n",
      "\n",
      "\n",
      "**Processing negative sentiment...**\n",
      "AUC ROC is 0.9420490267634379\n",
      "\n",
      "\n",
      "**Processing neutral sentiment...**\n",
      "AUC ROC is 0.9224390331529051\n",
      "\n",
      "\n",
      "**Processing irrelevant sentiment...**\n",
      "AUC ROC is 0.9183529087167176\n",
      "\n",
      "\n",
      "Test averaged AUC ROC is 0.9276204325007174\n"
     ]
    }
   ],
   "source": [
    "from sklearn.svm import LinearSVC\n",
    "\n",
    "SVC_pipeline = Pipeline([('clf', OneVsRestClassifier(LinearSVC(), n_jobs=1))])\n",
    "\n",
    "score = 0\n",
    "for sentiment in data.columns[4:]:\n",
    "    print('**Processing {} sentiment...**'.format(sentiment))\n",
    "    \n",
    "    # Training logistic regression model on train data\n",
    "    SVC_pipeline.fit(X_train, y_train[sentiment])\n",
    "    \n",
    "    prediction = SVC_pipeline.predict(X_test)\n",
    "    score = score + roc_auc_score(y_test[sentiment], prediction)\n",
    "    print('AUC ROC is {}'.format(roc_auc_score(y_test[sentiment],prediction)))\n",
    "    print(\"\\n\")\n",
    "\n",
    "print('Test averaged AUC ROC is {}'.format(score/len(data.columns[4:])))"
   ]
  },
  {
   "cell_type": "code",
   "execution_count": 74,
   "id": "92692cde",
   "metadata": {},
   "outputs": [
    {
     "name": "stdout",
     "output_type": "stream",
     "text": [
      "AUC ROC for MultiOutputClassifier is 0.7415029172886042\n",
      "AUC ROC for OneVsRestClassifier is 0.8956255034747218\n",
      "AUC ROC for MultiOutputClassifier is 0.7363471029780942\n"
     ]
    },
    {
     "name": "stderr",
     "output_type": "stream",
     "text": [
      "/Users/rodolfo.saldanha/Desktop/sentiment_analysis_challenge/venv/lib/python3.8/site-packages/sklearn/linear_model/_logistic.py:444: ConvergenceWarning: lbfgs failed to converge (status=1):\n",
      "STOP: TOTAL NO. of ITERATIONS REACHED LIMIT.\n",
      "\n",
      "Increase the number of iterations (max_iter) or scale the data as shown in:\n",
      "    https://scikit-learn.org/stable/modules/preprocessing.html\n",
      "Please also refer to the documentation for alternative solver options:\n",
      "    https://scikit-learn.org/stable/modules/linear_model.html#logistic-regression\n",
      "  n_iter_i = _check_optimize_result(\n"
     ]
    },
    {
     "name": "stdout",
     "output_type": "stream",
     "text": [
      "AUC ROC for OneVsRestClassifier is 0.8927073792778899\n",
      "AUC ROC for MultiOutputClassifier is 0.7390442649747402\n"
     ]
    },
    {
     "name": "stderr",
     "output_type": "stream",
     "text": [
      "/Users/rodolfo.saldanha/Desktop/sentiment_analysis_challenge/venv/lib/python3.8/site-packages/sklearn/linear_model/_logistic.py:444: ConvergenceWarning: lbfgs failed to converge (status=1):\n",
      "STOP: TOTAL NO. of ITERATIONS REACHED LIMIT.\n",
      "\n",
      "Increase the number of iterations (max_iter) or scale the data as shown in:\n",
      "    https://scikit-learn.org/stable/modules/preprocessing.html\n",
      "Please also refer to the documentation for alternative solver options:\n",
      "    https://scikit-learn.org/stable/modules/linear_model.html#logistic-regression\n",
      "  n_iter_i = _check_optimize_result(\n",
      "/Users/rodolfo.saldanha/Desktop/sentiment_analysis_challenge/venv/lib/python3.8/site-packages/sklearn/linear_model/_logistic.py:444: ConvergenceWarning: lbfgs failed to converge (status=1):\n",
      "STOP: TOTAL NO. of ITERATIONS REACHED LIMIT.\n",
      "\n",
      "Increase the number of iterations (max_iter) or scale the data as shown in:\n",
      "    https://scikit-learn.org/stable/modules/preprocessing.html\n",
      "Please also refer to the documentation for alternative solver options:\n",
      "    https://scikit-learn.org/stable/modules/linear_model.html#logistic-regression\n",
      "  n_iter_i = _check_optimize_result(\n"
     ]
    },
    {
     "name": "stdout",
     "output_type": "stream",
     "text": [
      "AUC ROC for OneVsRestClassifier is 0.8918092308376644\n",
      "AUC ROC for MultiOutputClassifier is 0.740309153415248\n"
     ]
    },
    {
     "name": "stderr",
     "output_type": "stream",
     "text": [
      "/Users/rodolfo.saldanha/Desktop/sentiment_analysis_challenge/venv/lib/python3.8/site-packages/sklearn/linear_model/_logistic.py:444: ConvergenceWarning: lbfgs failed to converge (status=1):\n",
      "STOP: TOTAL NO. of ITERATIONS REACHED LIMIT.\n",
      "\n",
      "Increase the number of iterations (max_iter) or scale the data as shown in:\n",
      "    https://scikit-learn.org/stable/modules/preprocessing.html\n",
      "Please also refer to the documentation for alternative solver options:\n",
      "    https://scikit-learn.org/stable/modules/linear_model.html#logistic-regression\n",
      "  n_iter_i = _check_optimize_result(\n"
     ]
    },
    {
     "name": "stdout",
     "output_type": "stream",
     "text": [
      "AUC ROC for OneVsRestClassifier is 0.8934109635638031\n",
      "AUC ROC for MultiOutputClassifier is 0.7392968668255148\n"
     ]
    },
    {
     "name": "stderr",
     "output_type": "stream",
     "text": [
      "/Users/rodolfo.saldanha/Desktop/sentiment_analysis_challenge/venv/lib/python3.8/site-packages/sklearn/linear_model/_logistic.py:444: ConvergenceWarning: lbfgs failed to converge (status=1):\n",
      "STOP: TOTAL NO. of ITERATIONS REACHED LIMIT.\n",
      "\n",
      "Increase the number of iterations (max_iter) or scale the data as shown in:\n",
      "    https://scikit-learn.org/stable/modules/preprocessing.html\n",
      "Please also refer to the documentation for alternative solver options:\n",
      "    https://scikit-learn.org/stable/modules/linear_model.html#logistic-regression\n",
      "  n_iter_i = _check_optimize_result(\n"
     ]
    },
    {
     "name": "stdout",
     "output_type": "stream",
     "text": [
      "AUC ROC for OneVsRestClassifier is 0.8948390277154115\n"
     ]
    }
   ],
   "source": [
    "results = pd.DataFrame(columns=[\"MultiOutputClassifier\", \"OneVsRestClassifier\"])\n",
    "for seed in seeds:\n",
    "    result = []\n",
    "    X_train, X_test, y_train, y_test = train_test_split(data[\"comment\"], \n",
    "                                                        data[data.columns[4:]],\n",
    "                                                        test_size=0.3, \n",
    "                                                        random_state=seed, \n",
    "                                                        shuffle=True)\n",
    "    vectorizer = TfidfVectorizer(strip_accents='unicode', analyzer='word', ngram_range=(1,3), norm='l2')\n",
    "    vectorizer.fit(X_train)\n",
    "\n",
    "    X_train = vectorizer.transform(X_train)\n",
    "    X_test = vectorizer.transform(X_test)\n",
    "\n",
    "    clf = MultiOutputClassifier(KNeighborsClassifier()).fit(X_train, y_train)\n",
    "    predictions = clf.predict(X_test)\n",
    "    print(\"AUC ROC for MultiOutputClassifier is {}\".format(roc_auc_score(y_test, predictions)))\n",
    "    result.append(roc_auc_score(y_test, predictions))\n",
    "\n",
    "    clf = OneVsRestClassifier(LogisticRegression(class_weight=\"balanced\"), n_jobs=-1).fit(X_train, y_train)\n",
    "    predictions = clf.predict(X_test)\n",
    "    print(\"AUC ROC for OneVsRestClassifier is {}\".format(roc_auc_score(y_test, predictions)))\n",
    "    result.append(roc_auc_score(y_test, predictions))\n",
    "\n",
    "    results.loc[seed] = result"
   ]
  },
  {
   "cell_type": "code",
   "execution_count": 72,
   "id": "865f3cb8",
   "metadata": {},
   "outputs": [],
   "source": [
    "results = pd.DataFrame(columns=[\"MultiOutputClassifier\", \"OneVsRestClassifier\"])\n",
    "result = [3.56, 5.66]\n",
    "result2 = [3.5, 5.66]\n",
    "results.loc[0] = result\n",
    "results.loc[45] = result2\n"
   ]
  },
  {
   "cell_type": "code",
   "execution_count": 75,
   "id": "98c8a327",
   "metadata": {},
   "outputs": [
    {
     "data": {
      "text/html": [
       "<div>\n",
       "<style scoped>\n",
       "    .dataframe tbody tr th:only-of-type {\n",
       "        vertical-align: middle;\n",
       "    }\n",
       "\n",
       "    .dataframe tbody tr th {\n",
       "        vertical-align: top;\n",
       "    }\n",
       "\n",
       "    .dataframe thead th {\n",
       "        text-align: right;\n",
       "    }\n",
       "</style>\n",
       "<table border=\"1\" class=\"dataframe\">\n",
       "  <thead>\n",
       "    <tr style=\"text-align: right;\">\n",
       "      <th></th>\n",
       "      <th>MultiOutputClassifier</th>\n",
       "      <th>OneVsRestClassifier</th>\n",
       "    </tr>\n",
       "  </thead>\n",
       "  <tbody>\n",
       "    <tr>\n",
       "      <th>3</th>\n",
       "      <td>0.741503</td>\n",
       "      <td>0.895626</td>\n",
       "    </tr>\n",
       "    <tr>\n",
       "      <th>6</th>\n",
       "      <td>0.736347</td>\n",
       "      <td>0.892707</td>\n",
       "    </tr>\n",
       "    <tr>\n",
       "      <th>97</th>\n",
       "      <td>0.739044</td>\n",
       "      <td>0.891809</td>\n",
       "    </tr>\n",
       "    <tr>\n",
       "      <th>65</th>\n",
       "      <td>0.740309</td>\n",
       "      <td>0.893411</td>\n",
       "    </tr>\n",
       "    <tr>\n",
       "      <th>1000</th>\n",
       "      <td>0.739297</td>\n",
       "      <td>0.894839</td>\n",
       "    </tr>\n",
       "  </tbody>\n",
       "</table>\n",
       "</div>"
      ],
      "text/plain": [
       "      MultiOutputClassifier  OneVsRestClassifier\n",
       "3                  0.741503             0.895626\n",
       "6                  0.736347             0.892707\n",
       "97                 0.739044             0.891809\n",
       "65                 0.740309             0.893411\n",
       "1000               0.739297             0.894839"
      ]
     },
     "execution_count": 75,
     "metadata": {},
     "output_type": "execute_result"
    }
   ],
   "source": [
    "results"
   ]
  }
 ],
 "metadata": {
  "interpreter": {
   "hash": "671746723ef530cf358de98eef01bf781756b3a7ec60d3d4736bfee35d630244"
  },
  "kernelspec": {
   "display_name": "Python 3.8.8 ('venv': venv)",
   "language": "python",
   "name": "python3"
  },
  "language_info": {
   "codemirror_mode": {
    "name": "ipython",
    "version": 3
   },
   "file_extension": ".py",
   "mimetype": "text/x-python",
   "name": "python",
   "nbconvert_exporter": "python",
   "pygments_lexer": "ipython3",
   "version": "3.8.8"
  }
 },
 "nbformat": 4,
 "nbformat_minor": 5
}
